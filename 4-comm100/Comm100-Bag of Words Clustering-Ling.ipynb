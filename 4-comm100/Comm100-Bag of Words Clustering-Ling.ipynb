{
 "cells": [
  {
   "cell_type": "markdown",
   "metadata": {},
   "source": [
    "### Bag of Words Categorization - Ling Zhang"
   ]
  },
  {
   "cell_type": "code",
   "execution_count": 1,
   "metadata": {
    "collapsed": true
   },
   "outputs": [],
   "source": [
    "from pandas import DataFrame\n",
    "import pandas as pd\n",
    "import os\n",
    "import io\n",
    "import glob\n",
    "import nltk\n",
    "import sklearn\n",
    "import re\n",
    "from nltk.corpus import stopwords\n",
    "from string import punctuation"
   ]
  },
  {
   "cell_type": "code",
   "execution_count": 2,
   "metadata": {},
   "outputs": [
    {
     "name": "stdout",
     "output_type": "stream",
     "text": [
      "[nltk_data] Downloading package stopwords to /Users/Fall/nltk_data...\n",
      "[nltk_data]   Package stopwords is already up-to-date!\n"
     ]
    },
    {
     "data": {
      "text/plain": [
       "True"
      ]
     },
     "execution_count": 2,
     "metadata": {},
     "output_type": "execute_result"
    }
   ],
   "source": [
    "nltk.download('stopwords')"
   ]
  },
  {
   "cell_type": "code",
   "execution_count": 3,
   "metadata": {
    "collapsed": true
   },
   "outputs": [],
   "source": [
    "stop = stopwords.words('english')"
   ]
  },
  {
   "cell_type": "code",
   "execution_count": 4,
   "metadata": {},
   "outputs": [],
   "source": [
    "stop.extend(['agent','visitor','comm100'])"
   ]
  },
  {
   "cell_type": "code",
   "execution_count": 5,
   "metadata": {},
   "outputs": [
    {
     "name": "stdout",
     "output_type": "stream",
     "text": [
      "['i', 'me', 'my', 'myself', 'we', 'our', 'ours', 'ourselves', 'you', \"you're\", \"you've\", \"you'll\", \"you'd\", 'your', 'yours', 'yourself', 'yourselves', 'he', 'him', 'his', 'himself', 'she', \"she's\", 'her', 'hers', 'herself', 'it', \"it's\", 'its', 'itself', 'they', 'them', 'their', 'theirs', 'themselves', 'what', 'which', 'who', 'whom', 'this', 'that', \"that'll\", 'these', 'those', 'am', 'is', 'are', 'was', 'were', 'be', 'been', 'being', 'have', 'has', 'had', 'having', 'do', 'does', 'did', 'doing', 'a', 'an', 'the', 'and', 'but', 'if', 'or', 'because', 'as', 'until', 'while', 'of', 'at', 'by', 'for', 'with', 'about', 'against', 'between', 'into', 'through', 'during', 'before', 'after', 'above', 'below', 'to', 'from', 'up', 'down', 'in', 'out', 'on', 'off', 'over', 'under', 'again', 'further', 'then', 'once', 'here', 'there', 'when', 'where', 'why', 'how', 'all', 'any', 'both', 'each', 'few', 'more', 'most', 'other', 'some', 'such', 'no', 'nor', 'not', 'only', 'own', 'same', 'so', 'than', 'too', 'very', 's', 't', 'can', 'will', 'just', 'don', \"don't\", 'should', \"should've\", 'now', 'd', 'll', 'm', 'o', 're', 've', 'y', 'ain', 'aren', \"aren't\", 'couldn', \"couldn't\", 'didn', \"didn't\", 'doesn', \"doesn't\", 'hadn', \"hadn't\", 'hasn', \"hasn't\", 'haven', \"haven't\", 'isn', \"isn't\", 'ma', 'mightn', \"mightn't\", 'mustn', \"mustn't\", 'needn', \"needn't\", 'shan', \"shan't\", 'shouldn', \"shouldn't\", 'wasn', \"wasn't\", 'weren', \"weren't\", 'won', \"won't\", 'wouldn', \"wouldn't\", 'agent', 'visitor', 'comm100']\n"
     ]
    }
   ],
   "source": [
    "print(stop)"
   ]
  },
  {
   "cell_type": "markdown",
   "metadata": {},
   "source": [
    "#### Build a Bad of Words model"
   ]
  },
  {
   "cell_type": "code",
   "execution_count": 6,
   "metadata": {
    "collapsed": true
   },
   "outputs": [],
   "source": [
    "files = glob.glob('sample_data/*')"
   ]
  },
  {
   "cell_type": "code",
   "execution_count": 7,
   "metadata": {},
   "outputs": [],
   "source": [
    "conversations = pd.DataFrame(columns = [\"fileID\", \"Bag Of Words\", \"Category\", \"Validation\"])\n",
    "for file in files:\n",
    "    f = open(file,'r', encoding='utf-16-le')\n",
    "    conversation = f.read()[1:]\n",
    "    no_punc_conv = re.sub('[' + punctuation + ']',' ', conversation)\n",
    "    clean_conv = [word.lower() for word in no_punc_conv.split() if word.lower() not in stop]\n",
    "    dframe = pd.DataFrame([[file, clean_conv, '0', '0']], columns = [\"fileID\", \"Bag Of Words\", \"Category\", \"Validation\"])\n",
    "    conversations = conversations.append(dframe)\n",
    "    f.close()\n",
    "conversations.set_index(\"fileID\", inplace = True)"
   ]
  },
  {
   "cell_type": "code",
   "execution_count": 8,
   "metadata": {},
   "outputs": [
    {
     "data": {
      "text/plain": [
       "998"
      ]
     },
     "execution_count": 8,
     "metadata": {},
     "output_type": "execute_result"
    }
   ],
   "source": [
    "len(conversations)"
   ]
  },
  {
   "cell_type": "code",
   "execution_count": 9,
   "metadata": {},
   "outputs": [
    {
     "data": {
      "text/html": [
       "<div>\n",
       "<style>\n",
       "    .dataframe thead tr:only-child th {\n",
       "        text-align: right;\n",
       "    }\n",
       "\n",
       "    .dataframe thead th {\n",
       "        text-align: left;\n",
       "    }\n",
       "\n",
       "    .dataframe tbody tr th {\n",
       "        vertical-align: top;\n",
       "    }\n",
       "</style>\n",
       "<table border=\"1\" class=\"dataframe\">\n",
       "  <thead>\n",
       "    <tr style=\"text-align: right;\">\n",
       "      <th></th>\n",
       "      <th>fileID</th>\n",
       "      <th>Bag Of Words</th>\n",
       "      <th>Category</th>\n",
       "      <th>Validation</th>\n",
       "    </tr>\n",
       "  </thead>\n",
       "  <tbody>\n",
       "    <tr>\n",
       "      <th>0</th>\n",
       "      <td>sample_data/289.txt</td>\n",
       "      <td>[brian, hello, indika, brian, help, indika, he...</td>\n",
       "      <td>0</td>\n",
       "      <td>0</td>\n",
       "    </tr>\n",
       "    <tr>\n",
       "      <th>1</th>\n",
       "      <td>sample_data/504.txt</td>\n",
       "      <td>[norman, hello, terrum, norman, may, help, today]</td>\n",
       "      <td>0</td>\n",
       "      <td>0</td>\n",
       "    </tr>\n",
       "    <tr>\n",
       "      <th>2</th>\n",
       "      <td>sample_data/262.txt</td>\n",
       "      <td>[prit, hi, samuel, thank, contacting, help, sa...</td>\n",
       "      <td>0</td>\n",
       "      <td>0</td>\n",
       "    </tr>\n",
       "    <tr>\n",
       "      <th>3</th>\n",
       "      <td>sample_data/276.txt</td>\n",
       "      <td>[brian, hello, antonakis, hamalis, brian, help...</td>\n",
       "      <td>0</td>\n",
       "      <td>0</td>\n",
       "    </tr>\n",
       "    <tr>\n",
       "      <th>4</th>\n",
       "      <td>sample_data/510.txt</td>\n",
       "      <td>[johnny, training, dear, jenna, thank, contact...</td>\n",
       "      <td>0</td>\n",
       "      <td>0</td>\n",
       "    </tr>\n",
       "  </tbody>\n",
       "</table>\n",
       "</div>"
      ],
      "text/plain": [
       "                fileID                                       Bag Of Words  \\\n",
       "0  sample_data/289.txt  [brian, hello, indika, brian, help, indika, he...   \n",
       "1  sample_data/504.txt  [norman, hello, terrum, norman, may, help, today]   \n",
       "2  sample_data/262.txt  [prit, hi, samuel, thank, contacting, help, sa...   \n",
       "3  sample_data/276.txt  [brian, hello, antonakis, hamalis, brian, help...   \n",
       "4  sample_data/510.txt  [johnny, training, dear, jenna, thank, contact...   \n",
       "\n",
       "  Category Validation  \n",
       "0        0          0  \n",
       "1        0          0  \n",
       "2        0          0  \n",
       "3        0          0  \n",
       "4        0          0  "
      ]
     },
     "execution_count": 9,
     "metadata": {},
     "output_type": "execute_result"
    }
   ],
   "source": [
    "conversations.reset_index(level=0, inplace=True)\n",
    "conversations.head()"
   ]
  },
  {
   "cell_type": "code",
   "execution_count": 10,
   "metadata": {},
   "outputs": [
    {
     "data": {
      "text/plain": [
       "['brian',\n",
       " 'hello',\n",
       " 'antonakis',\n",
       " 'hamalis',\n",
       " 'brian',\n",
       " 'help',\n",
       " 'antonakis',\n",
       " 'hamalis',\n",
       " 'call',\n",
       " 'ok',\n",
       " 'brian',\n",
       " 'ok',\n",
       " 'great',\n",
       " 'brian',\n",
       " 'thank',\n",
       " 'brian',\n",
       " 'nice',\n",
       " 'day',\n",
       " 'operator',\n",
       " 'brian',\n",
       " 'left',\n",
       " 'chat']"
      ]
     },
     "execution_count": 10,
     "metadata": {},
     "output_type": "execute_result"
    }
   ],
   "source": [
    "conversations['Bag Of Words'][3]"
   ]
  },
  {
   "cell_type": "markdown",
   "metadata": {},
   "source": [
    "## Supervised clustering - Decision tree"
   ]
  },
  {
   "cell_type": "markdown",
   "metadata": {},
   "source": [
    "### Level 1 Category (from Comm100 website): \n",
    "1. Setup & Getting Started\n",
    "2. Settings & Customizations\n",
    "3. Monitor & Chat \n",
    "4. Transcripts & Reports\n",
    "5. Billing & Operator Management\n",
    "6. Desktop & Mobile Apps\n",
    "7. API & Webhooks\n",
    "8. Troubleshooting"
   ]
  },
  {
   "cell_type": "markdown",
   "metadata": {},
   "source": [
    "### Level 1 Keywords:\n",
    "    1. Setup & Getting Started\n",
    "setup, system, requirements, add, adding, install, installation, installing, code, coding, html, css, update, updated, version, versions, plugin, magento, corecommerce, prestashop, shopsite, drupal, 3dcart, static, button, americommerce, online, store, joomla, wix, opencart, wordpress, integrate, shopify, webs, weebly, facebook, blogsport, blog, ansak, sdk, account\n",
    "\n",
    "    2. Settings & Customizations\n",
    "customization, customizations, setting, settings, customize, font, color, colour, size, modify, modification, javascript, enabling, custom variable, language, gotomeeting, salesforce, crm, api, embedded, popup, canned, url, zendesk, preview, offline, style, image, button, google analytics, redirect, translate, translation, pre-chat, console, sound alert, interface, notifications, notification, change, arabic, hebrew, branding, logo, greeting, queue, rating, accept, departments, department, campaign, logical, segmentation, expression, routing, dynamic, browser, title, bio, remove, twitter, disable, upgrade, knowledge, base, wait\n",
    "\n",
    "    3. Monitor & Chat \n",
    "duration, minutes, passward, filter, referrers, referrer, ban, block, stop, send, transfer, spellcheck, spell check, login, private, pm, console, show, monitor \n",
    "\n",
    "    4. Transcripts & Reports\n",
    "transcripts, transcript, report, reports, history, attachment, counts, count, performance, offline, social media \n",
    "\n",
    "    5. Billing & Operator Management\n",
    "offer, discount, billing, billed, management, manage, multiagents, pay, credit, card, payment, payments, process, reset, maximumon, switch, cancel, register, delete, upgrade, confirm, balance, transaction, audit, log, paypal, subscribe, subscription,   \n",
    "    \n",
    "    6. Desktop & Mobile Apps\n",
    "uninstalling, uninstall, iphone, android, desktop, app, download, windows, mac, apple\n",
    "\n",
    "    7. API & Webhooks\n",
    "webhooks, api, webhook\n",
    "\n",
    "    8. Troubleshooting\n",
    "troubleshooting, trouble, troubles, disappears, disappear, disappeared, error, bug, id, problems, problem, wrong"
   ]
  },
  {
   "cell_type": "code",
   "execution_count": 11,
   "metadata": {
    "collapsed": true
   },
   "outputs": [],
   "source": [
    "categories = [\n",
    "    'Setup & Getting Started', \n",
    "    'Settings & Customizations', \n",
    "    'Monitor & Chat', \n",
    "    'Transcripts & Reports', \n",
    "    'Billing & Operator Management', \n",
    "    'Desktop & Mobile Apps', \n",
    "    'API & Webhooks', \n",
    "    'Troubleshooting']"
   ]
  },
  {
   "cell_type": "code",
   "execution_count": 12,
   "metadata": {},
   "outputs": [],
   "source": [
    "keywordsRaw = [\n",
    "    'setup, system, requirements, add, adding, install, installation, installing, code, coding, html, css, update, updated, version, versions, plugin, magento, corecommerce, prestashop, shopsite, drupal, 3dcart, static, button, americommerce, online, store, joomla, wix, opencart, wordpress, integrate, shopify, webs, weebly, facebook, blogsport, blog, ansak, sdk, account',\n",
    "    'customization, customizations, setting, settings, customize, font, color, colour, size, modify, modification, javascript, enabling, custom variable, language, gotomeeting, salesforce, crm, api, embedded, popup, canned, url, zendesk, preview, offline, style, image, button, google analytics, redirect, translate, translation, pre-chat, console, sound alert, interface, notifications, notification, change, arabic, hebrew, branding, logo, greeting, queue, rating, accept, departments, department, campaign, logical, segmentation, expression, routing, dynamic, browser, title, bio, remove, twitter, disable, upgrade, knowledge, base, wait',\n",
    "    'duration, minutes, passward, filter, referrers, referrer, ban, block, stop, send, transfer, spellcheck, spell check, login, private, pm, console, show, monitor',\n",
    "    'transcripts, transcript, report, reports, history, attachment, counts, count, performance, offline, social media',\n",
    "    'offer, discount, billing, billed, management, manage, multiagents, pay, credit, card, payment, payments, process, reset, maximumon, switch, cancel, register, delete, upgrade, confirm, balance, transaction, audit, log, paypal, subscribe, subscription',\n",
    "    'uninstalling, uninstall, iphone, android, desktop, app, download, windows, mac, apple',\n",
    "    'webhooks, api, webhook',\n",
    "    'troubleshooting, trouble, troubles, disappears, disappear, disappeared, error, bug, id, problems, problem, wrong',\n",
    "]"
   ]
  },
  {
   "cell_type": "code",
   "execution_count": 13,
   "metadata": {
    "collapsed": true
   },
   "outputs": [],
   "source": [
    "keywords = []\n",
    "for key in keywordsRaw:\n",
    "    no_punc_key = re.sub('[' + punctuation + ']',' ', key)\n",
    "    clean_key = [word.lower() for word in no_punc_key.split()]\n",
    "    keywords.append(clean_key)"
   ]
  },
  {
   "cell_type": "code",
   "execution_count": 14,
   "metadata": {},
   "outputs": [
    {
     "data": {
      "text/plain": [
       "['troubleshooting',\n",
       " 'trouble',\n",
       " 'troubles',\n",
       " 'disappears',\n",
       " 'disappear',\n",
       " 'disappeared',\n",
       " 'error',\n",
       " 'bug',\n",
       " 'id',\n",
       " 'problems',\n",
       " 'problem',\n",
       " 'wrong']"
      ]
     },
     "execution_count": 14,
     "metadata": {},
     "output_type": "execute_result"
    }
   ],
   "source": [
    "keywords[7]"
   ]
  },
  {
   "cell_type": "markdown",
   "metadata": {},
   "source": [
    "### Categorize each chat with keywords matching"
   ]
  },
  {
   "cell_type": "code",
   "execution_count": 15,
   "metadata": {},
   "outputs": [],
   "source": [
    "for i in range(len(conversations)):\n",
    "    for j in range(len(keywords)):\n",
    "        if (pd.Series(list(set(conversations['Bag Of Words'][i]).intersection(set(keywords[j])))).empty):\n",
    "               conversations[\"Category\"][i] = categories[j+1]\n",
    "               break            "
   ]
  },
  {
   "cell_type": "code",
   "execution_count": 16,
   "metadata": {},
   "outputs": [
    {
     "data": {
      "text/html": [
       "<div>\n",
       "<style>\n",
       "    .dataframe thead tr:only-child th {\n",
       "        text-align: right;\n",
       "    }\n",
       "\n",
       "    .dataframe thead th {\n",
       "        text-align: left;\n",
       "    }\n",
       "\n",
       "    .dataframe tbody tr th {\n",
       "        vertical-align: top;\n",
       "    }\n",
       "</style>\n",
       "<table border=\"1\" class=\"dataframe\">\n",
       "  <thead>\n",
       "    <tr style=\"text-align: right;\">\n",
       "      <th></th>\n",
       "      <th>fileID</th>\n",
       "      <th>Bag Of Words</th>\n",
       "      <th>Category</th>\n",
       "      <th>Validation</th>\n",
       "    </tr>\n",
       "  </thead>\n",
       "  <tbody>\n",
       "    <tr>\n",
       "      <th>0</th>\n",
       "      <td>sample_data/289.txt</td>\n",
       "      <td>[brian, hello, indika, brian, help, indika, he...</td>\n",
       "      <td>Desktop &amp; Mobile Apps</td>\n",
       "      <td>0</td>\n",
       "    </tr>\n",
       "    <tr>\n",
       "      <th>1</th>\n",
       "      <td>sample_data/504.txt</td>\n",
       "      <td>[norman, hello, terrum, norman, may, help, today]</td>\n",
       "      <td>Settings &amp; Customizations</td>\n",
       "      <td>0</td>\n",
       "    </tr>\n",
       "    <tr>\n",
       "      <th>2</th>\n",
       "      <td>sample_data/262.txt</td>\n",
       "      <td>[prit, hi, samuel, thank, contacting, help, sa...</td>\n",
       "      <td>Billing &amp; Operator Management</td>\n",
       "      <td>0</td>\n",
       "    </tr>\n",
       "    <tr>\n",
       "      <th>3</th>\n",
       "      <td>sample_data/276.txt</td>\n",
       "      <td>[brian, hello, antonakis, hamalis, brian, help...</td>\n",
       "      <td>Settings &amp; Customizations</td>\n",
       "      <td>0</td>\n",
       "    </tr>\n",
       "    <tr>\n",
       "      <th>4</th>\n",
       "      <td>sample_data/510.txt</td>\n",
       "      <td>[johnny, training, dear, jenna, thank, contact...</td>\n",
       "      <td>Settings &amp; Customizations</td>\n",
       "      <td>0</td>\n",
       "    </tr>\n",
       "  </tbody>\n",
       "</table>\n",
       "</div>"
      ],
      "text/plain": [
       "                fileID                                       Bag Of Words  \\\n",
       "0  sample_data/289.txt  [brian, hello, indika, brian, help, indika, he...   \n",
       "1  sample_data/504.txt  [norman, hello, terrum, norman, may, help, today]   \n",
       "2  sample_data/262.txt  [prit, hi, samuel, thank, contacting, help, sa...   \n",
       "3  sample_data/276.txt  [brian, hello, antonakis, hamalis, brian, help...   \n",
       "4  sample_data/510.txt  [johnny, training, dear, jenna, thank, contact...   \n",
       "\n",
       "                        Category Validation  \n",
       "0          Desktop & Mobile Apps          0  \n",
       "1      Settings & Customizations          0  \n",
       "2  Billing & Operator Management          0  \n",
       "3      Settings & Customizations          0  \n",
       "4      Settings & Customizations          0  "
      ]
     },
     "execution_count": 16,
     "metadata": {},
     "output_type": "execute_result"
    }
   ],
   "source": [
    "conversations.head()"
   ]
  },
  {
   "cell_type": "code",
   "execution_count": null,
   "metadata": {
    "collapsed": true
   },
   "outputs": [],
   "source": []
  }
 ],
 "metadata": {
  "kernelspec": {
   "display_name": "Python 3",
   "language": "python",
   "name": "python3"
  },
  "language_info": {
   "codemirror_mode": {
    "name": "ipython",
    "version": 3
   },
   "file_extension": ".py",
   "mimetype": "text/x-python",
   "name": "python",
   "nbconvert_exporter": "python",
   "pygments_lexer": "ipython3",
   "version": "3.6.3"
  }
 },
 "nbformat": 4,
 "nbformat_minor": 2
}
